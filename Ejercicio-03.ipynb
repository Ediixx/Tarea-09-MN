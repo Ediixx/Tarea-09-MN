{
 "cells": [
  {
   "cell_type": "code",
   "execution_count": 1,
   "metadata": {},
   "outputs": [],
   "source": [
    "%load_ext autoreload"
   ]
  },
  {
   "cell_type": "code",
   "execution_count": 13,
   "metadata": {},
   "outputs": [],
   "source": [
    "%autoreload 2\n",
    "from src import eliminacion_gaussiana\n",
    "from src import eliminacion_gaussiana_punto_flotante\n",
    "from src import eliminacion_gaussiana_pivoteo"
   ]
  },
  {
   "cell_type": "markdown",
   "metadata": {},
   "source": [
    "3. Utilice el algoritmo de eliminación gaussiana para resolver, de ser posible, los siguientes sistemas lineales, y \n",
    "determine si se necesitan intercambios de fila:"
   ]
  },
  {
   "attachments": {
    "image.png": {
     "image/png": "[encoded data removed]"
    }
   },
   "cell_type": "markdown",
   "metadata": {},
   "source": [
    "![image.png](attachment:image.png)"
   ]
  },
  {
   "cell_type": "code",
   "execution_count": 6,
   "metadata": {},
   "outputs": [
    {
     "name": "stdout",
     "output_type": "stream",
     "text": [
      "Intercambiando filas 1 y 2\n",
      "\n",
      "[[ 1 -1  3  2]\n",
      " [ 0  2 -3  1]\n",
      " [ 0  0 -8 -7]]\n"
     ]
    },
    {
     "data": {
      "text/plain": [
       "array([1.1875, 1.8125, 0.875 ])"
      ]
     },
     "execution_count": 6,
     "metadata": {},
     "output_type": "execute_result"
    }
   ],
   "source": [
    "Matriz_a = [[1,-1,3,2],[3,-3,1,-1],[1,1,0,3]]\n",
    "\n",
    "eliminacion_gaussiana_pivoteo(Matriz_a)"
   ]
  },
  {
   "attachments": {
    "image-2.png": {
     "image/png": "[encoded data removed]"
    }
   },
   "cell_type": "markdown",
   "metadata": {},
   "source": [
    "![image-2.png](attachment:image-2.png)"
   ]
  },
  {
   "cell_type": "code",
   "execution_count": 8,
   "metadata": {},
   "outputs": [
    {
     "name": "stdout",
     "output_type": "stream",
     "text": [
      "Intercambiando filas 0 y 1\n",
      "\n",
      "[[-1.   0.   2.   3. ]\n",
      " [ 0.  -1.5  7.   7. ]\n",
      " [ 0.   0.  -8.  -8. ]]\n"
     ]
    },
    {
     "data": {
      "text/plain": [
       "array([-1., -0.,  1.])"
      ]
     },
     "execution_count": 8,
     "metadata": {},
     "output_type": "execute_result"
    }
   ],
   "source": [
    "Matriz_b = [[2,-1.5,3,1],[-1,0,2,3],[4,-4.5,5,1]]\n",
    "\n",
    "eliminacion_gaussiana_pivoteo(Matriz_b)"
   ]
  },
  {
   "attachments": {
    "image.png": {
     "image/png": "[encoded data removed]"
    }
   },
   "cell_type": "markdown",
   "metadata": {},
   "source": [
    "![image.png](attachment:image.png)"
   ]
  },
  {
   "cell_type": "code",
   "execution_count": 11,
   "metadata": {},
   "outputs": [
    {
     "name": "stdout",
     "output_type": "stream",
     "text": [
      "Intercambiando filas 0 y 1\n",
      "\n",
      "[[ 1.   1.5  0.   0.   4.5]\n",
      " [ 0.  -3.   0.   0.  -6. ]\n",
      " [ 0.   0.   0.5  0.  -0.6]\n",
      " [ 0.   0.   0.   1.   3. ]]\n"
     ]
    },
    {
     "data": {
      "text/plain": [
       "array([ 1.5,  2. , -1.2,  3. ])"
      ]
     },
     "execution_count": 11,
     "metadata": {},
     "output_type": "execute_result"
    }
   ],
   "source": [
    "Matriz_c = [[2,0,0,0,3],[1,1.5,0,0,4.5],[0,-3,0.5,0,-6.6],[2,-2,1,1,0.8]]\n",
    "\n",
    "eliminacion_gaussiana_pivoteo (Matriz_c)"
   ]
  },
  {
   "attachments": {
    "image.png": {
     "image/png": "[encoded data removed]"
    }
   },
   "cell_type": "markdown",
   "metadata": {},
   "source": [
    "![image.png](attachment:image.png)\n"
   ]
  },
  {
   "cell_type": "code",
   "execution_count": 12,
   "metadata": {},
   "outputs": [
    {
     "ename": "ValueError",
     "evalue": "No existe solución única.",
     "output_type": "error",
     "traceback": [
      "\u001b[1;31m---------------------------------------------------------------------------\u001b[0m",
      "\u001b[1;31mValueError\u001b[0m                                Traceback (most recent call last)",
      "Cell \u001b[1;32mIn[12], line 3\u001b[0m\n\u001b[0;32m      1\u001b[0m Matriz \u001b[38;5;241m=\u001b[39m [[\u001b[38;5;241m1\u001b[39m,\u001b[38;5;241m1\u001b[39m,\u001b[38;5;241m0\u001b[39m,\u001b[38;5;241m1\u001b[39m,\u001b[38;5;241m2\u001b[39m],[\u001b[38;5;241m2\u001b[39m,\u001b[38;5;241m1\u001b[39m,\u001b[38;5;241m-\u001b[39m\u001b[38;5;241m1\u001b[39m,\u001b[38;5;241m1\u001b[39m,\u001b[38;5;241m1\u001b[39m],[\u001b[38;5;241m4\u001b[39m,\u001b[38;5;241m-\u001b[39m\u001b[38;5;241m1\u001b[39m,\u001b[38;5;241m-\u001b[39m\u001b[38;5;241m2\u001b[39m,\u001b[38;5;241m2\u001b[39m,\u001b[38;5;241m0\u001b[39m],[\u001b[38;5;241m3\u001b[39m,\u001b[38;5;241m-\u001b[39m\u001b[38;5;241m1\u001b[39m,\u001b[38;5;241m-\u001b[39m\u001b[38;5;241m1\u001b[39m,\u001b[38;5;241m2\u001b[39m,\u001b[38;5;241m-\u001b[39m\u001b[38;5;241m3\u001b[39m]]\n\u001b[1;32m----> 3\u001b[0m \u001b[43meliminacion_gaussiana_pivoteo\u001b[49m\u001b[43m \u001b[49m\u001b[43m(\u001b[49m\u001b[43mMatriz\u001b[49m\u001b[43m)\u001b[49m\n",
      "File \u001b[1;32mc:\\Users\\wwwed\\OneDrive\\Escritorio\\Carrera\\Cuarto Semestre\\Métodos Numéricos\\Tarea-09-MN\\src\\linear_sist_methods.py:130\u001b[0m, in \u001b[0;36meliminacion_gaussiana_pivoteo\u001b[1;34m(A)\u001b[0m\n\u001b[0;32m    126\u001b[0m             A[j, i:] \u001b[38;5;241m=\u001b[39m A[j, i:] \u001b[38;5;241m-\u001b[39m m \u001b[38;5;241m*\u001b[39m A[i, i:]\n\u001b[0;32m    129\u001b[0m     \u001b[38;5;28;01mif\u001b[39;00m A[n \u001b[38;5;241m-\u001b[39m \u001b[38;5;241m1\u001b[39m, n \u001b[38;5;241m-\u001b[39m \u001b[38;5;241m1\u001b[39m] \u001b[38;5;241m==\u001b[39m \u001b[38;5;241m0\u001b[39m:\n\u001b[1;32m--> 130\u001b[0m         \u001b[38;5;28;01mraise\u001b[39;00m \u001b[38;5;167;01mValueError\u001b[39;00m(\u001b[38;5;124m\"\u001b[39m\u001b[38;5;124mNo existe solución única.\u001b[39m\u001b[38;5;124m\"\u001b[39m)\n\u001b[0;32m    132\u001b[0m     \u001b[38;5;28mprint\u001b[39m(\u001b[38;5;124mf\u001b[39m\u001b[38;5;124m\"\u001b[39m\u001b[38;5;130;01m\\n\u001b[39;00m\u001b[38;5;132;01m{\u001b[39;00mA\u001b[38;5;132;01m}\u001b[39;00m\u001b[38;5;124m\"\u001b[39m)\n\u001b[0;32m    133\u001b[0m \u001b[38;5;66;03m# --- Sustitución hacia atrás\u001b[39;00m\n",
      "\u001b[1;31mValueError\u001b[0m: No existe solución única."
     ]
    }
   ],
   "source": [
    "Matriz_d = [[1,1,0,1,2],[2,1,-1,1,1],[4,-1,-2,2,0],[3,-1,-1,2,-3]]\n",
    "\n",
    "eliminacion_gaussiana_pivoteo (Matriz_d)"
   ]
  }
 ],
 "metadata": {
  "kernelspec": {
   "display_name": "Python 3",
   "language": "python",
   "name": "python3"
  },
  "language_info": {
   "codemirror_mode": {
    "name": "ipython",
    "version": 3
   },
   "file_extension": ".py",
   "mimetype": "text/x-python",
   "name": "python",
   "nbconvert_exporter": "python",
   "pygments_lexer": "ipython3",
   "version": "3.11.0"
  }
 },
 "nbformat": 4,
 "nbformat_minor": 2
}
